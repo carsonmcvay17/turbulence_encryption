{
 "cells": [
  {
   "cell_type": "code",
   "execution_count": null,
   "metadata": {},
   "outputs": [],
   "source": [
    "# every single import ever\n",
    "import jax\n",
    "import jax.numpy as jnp\n",
    "import matplotlib.pyplot as plt\n",
    "import seaborn as sns\n",
    "import xarray\n",
    "import json\n",
    "\n",
    "import jax_cfd.base as cfd\n",
    "import jax_cfd.base.grids as grids\n",
    "import jax_cfd.spectral as spectral\n",
    "\n",
    "import dataclasses\n",
    "import navier_stokes\n",
    "from navier_stokes import NavierStokes2D2\n",
    "from run_turbulence import Turbulence\n",
    "from make_forcing import Forcings\n",
    "from navier_stokes import NavierStokes2D2\n",
    "from make_dataset import Dataset"
   ]
  }
 ],
 "metadata": {
  "language_info": {
   "name": "python"
  }
 },
 "nbformat": 4,
 "nbformat_minor": 2
}
