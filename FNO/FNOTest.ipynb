{
 "cells": [
  {
   "cell_type": "markdown",
   "metadata": {},
   "source": [
    "Fourier Neural Operator Code\n",
    "The goal of this notebook is to implement an FNO for a test dataset. Eventually this code will be used for decoding turbulence simulations"
   ]
  },
  {
   "cell_type": "markdown",
   "metadata": {},
   "source": [
    "Data Preparation\n"
   ]
  },
  {
   "cell_type": "code",
   "execution_count": 1,
   "metadata": {},
   "outputs": [],
   "source": [
    "import torch\n",
    "import jax.numpy as jnp\n",
    "from sklearn.model_selection import train_test_split\n",
    "from torch.utils.data import DataLoader, TensorDataset"
   ]
  },
  {
   "cell_type": "code",
   "execution_count": 2,
   "metadata": {},
   "outputs": [
    {
     "ename": "KeyError",
     "evalue": "'inputs_forcing is not a file in the archive'",
     "output_type": "error",
     "traceback": [
      "\u001b[0;31m---------------------------------------------------------------------------\u001b[0m",
      "\u001b[0;31mKeyError\u001b[0m                                  Traceback (most recent call last)",
      "Cell \u001b[0;32mIn[2], line 9\u001b[0m\n\u001b[1;32m      7\u001b[0m data_path \u001b[38;5;241m=\u001b[39m \u001b[38;5;124m\"\u001b[39m\u001b[38;5;124m/Users/carsonmcvay/desktop/gradschool/research/turbulence_encryption/forcing_functions/multi_forcing_simulations.npz\u001b[39m\u001b[38;5;124m\"\u001b[39m\n\u001b[1;32m      8\u001b[0m data \u001b[38;5;241m=\u001b[39m jnp\u001b[38;5;241m.\u001b[39mload(data_path)\n\u001b[0;32m----> 9\u001b[0m inputs \u001b[38;5;241m=\u001b[39m data[\u001b[38;5;124m\"\u001b[39m\u001b[38;5;124minputs_forcing\u001b[39m\u001b[38;5;124m\"\u001b[39m]\n\u001b[1;32m     10\u001b[0m outputs \u001b[38;5;241m=\u001b[39m data[\u001b[38;5;124m\"\u001b[39m\u001b[38;5;124moutputs_forcing\u001b[39m\u001b[38;5;124m\"\u001b[39m]\n\u001b[1;32m     13\u001b[0m \u001b[38;5;66;03m# # Normalize data\u001b[39;00m\n",
      "File \u001b[0;32m~/miniconda3/envs/jaxenv/lib/python3.12/site-packages/numpy/lib/_npyio_impl.py:265\u001b[0m, in \u001b[0;36mNpzFile.__getitem__\u001b[0;34m(self, key)\u001b[0m\n\u001b[1;32m    263\u001b[0m         \u001b[38;5;28;01mreturn\u001b[39;00m \u001b[38;5;28mself\u001b[39m\u001b[38;5;241m.\u001b[39mzip\u001b[38;5;241m.\u001b[39mread(key)\n\u001b[1;32m    264\u001b[0m \u001b[38;5;28;01melse\u001b[39;00m:\n\u001b[0;32m--> 265\u001b[0m     \u001b[38;5;28;01mraise\u001b[39;00m \u001b[38;5;167;01mKeyError\u001b[39;00m(\u001b[38;5;124mf\u001b[39m\u001b[38;5;124m\"\u001b[39m\u001b[38;5;132;01m{\u001b[39;00mkey\u001b[38;5;132;01m}\u001b[39;00m\u001b[38;5;124m is not a file in the archive\u001b[39m\u001b[38;5;124m\"\u001b[39m)\n",
      "\u001b[0;31mKeyError\u001b[0m: 'inputs_forcing is not a file in the archive'"
     ]
    }
   ],
   "source": [
    "# Simulated dataset generation\n",
    "# Inputs: Evolved states (e.g., velocity/pressure fields over time)\n",
    "# Targets: Forcing functions (spatially/temporally varying fields)\n",
    "\n",
    "\n",
    "# Example:\n",
    "data_path = \"/Users/carsonmcvay/desktop/gradschool/research/turbulence_encryption/forcing_functions/multi_forcing_simulations.npz\"\n",
    "data = jnp.load(data_path)\n",
    "inputs = data[\"inputs_forcing\"]\n",
    "outputs = data[\"outputs_forcing\"]\n",
    "\n",
    "\n",
    "# # Normalize data\n",
    "inputs_normalized = (inputs - jnp.mean(inputs))/jnp.std(inputs)\n"
   ]
  },
  {
   "cell_type": "markdown",
   "metadata": {},
   "source": [
    "Split training and test data"
   ]
  },
  {
   "cell_type": "code",
   "execution_count": 12,
   "metadata": {},
   "outputs": [],
   "source": [
    "X_train, X_test, y_train, y_test = train_test_split(inputs_normalized, forcing, test_size=0.2, random_state=42)"
   ]
  },
  {
   "cell_type": "markdown",
   "metadata": {},
   "source": [
    "Pass data to the FNO"
   ]
  },
  {
   "cell_type": "code",
   "execution_count": 14,
   "metadata": {},
   "outputs": [
    {
     "ename": "TypeError",
     "evalue": "len() of unsized object",
     "output_type": "error",
     "traceback": [
      "\u001b[0;31m---------------------------------------------------------------------------\u001b[0m",
      "\u001b[0;31mIndexError\u001b[0m                                Traceback (most recent call last)",
      "File \u001b[0;32m~/miniconda3/envs/jaxenv/lib/python3.12/site-packages/jax/_src/array.py:273\u001b[0m, in \u001b[0;36mArrayImpl.__len__\u001b[0;34m(self)\u001b[0m\n\u001b[1;32m    272\u001b[0m \u001b[38;5;28;01mtry\u001b[39;00m:\n\u001b[0;32m--> 273\u001b[0m   \u001b[38;5;28;01mreturn\u001b[39;00m \u001b[38;5;28mself\u001b[39m\u001b[38;5;241m.\u001b[39mshape[\u001b[38;5;241m0\u001b[39m]\n\u001b[1;32m    274\u001b[0m \u001b[38;5;28;01mexcept\u001b[39;00m \u001b[38;5;167;01mIndexError\u001b[39;00m \u001b[38;5;28;01mas\u001b[39;00m err:\n",
      "\u001b[0;31mIndexError\u001b[0m: tuple index out of range",
      "\nThe above exception was the direct cause of the following exception:\n",
      "\u001b[0;31mTypeError\u001b[0m                                 Traceback (most recent call last)",
      "Cell \u001b[0;32mIn[14], line 2\u001b[0m\n\u001b[1;32m      1\u001b[0m \u001b[38;5;66;03m# Convert data to PyTorch tensors\u001b[39;00m\n\u001b[0;32m----> 2\u001b[0m X_train_tensor \u001b[38;5;241m=\u001b[39m torch\u001b[38;5;241m.\u001b[39mtensor(X_train, dtype\u001b[38;5;241m=\u001b[39mtorch\u001b[38;5;241m.\u001b[39mfloat32)\n\u001b[1;32m      3\u001b[0m y_train_tensor \u001b[38;5;241m=\u001b[39m torch\u001b[38;5;241m.\u001b[39mtensor(y_train, dtype\u001b[38;5;241m=\u001b[39mtorch\u001b[38;5;241m.\u001b[39mfloat32)\n\u001b[1;32m      4\u001b[0m X_test_tensor \u001b[38;5;241m=\u001b[39m torch\u001b[38;5;241m.\u001b[39mtensor(X_test, dtype\u001b[38;5;241m=\u001b[39mtorch\u001b[38;5;241m.\u001b[39mfloat32)\n",
      "File \u001b[0;32m~/miniconda3/envs/jaxenv/lib/python3.12/site-packages/jax/_src/array.py:275\u001b[0m, in \u001b[0;36mArrayImpl.__len__\u001b[0;34m(self)\u001b[0m\n\u001b[1;32m    273\u001b[0m   \u001b[38;5;28;01mreturn\u001b[39;00m \u001b[38;5;28mself\u001b[39m\u001b[38;5;241m.\u001b[39mshape[\u001b[38;5;241m0\u001b[39m]\n\u001b[1;32m    274\u001b[0m \u001b[38;5;28;01mexcept\u001b[39;00m \u001b[38;5;167;01mIndexError\u001b[39;00m \u001b[38;5;28;01mas\u001b[39;00m err:\n\u001b[0;32m--> 275\u001b[0m   \u001b[38;5;28;01mraise\u001b[39;00m \u001b[38;5;167;01mTypeError\u001b[39;00m(\u001b[38;5;124m\"\u001b[39m\u001b[38;5;124mlen() of unsized object\u001b[39m\u001b[38;5;124m\"\u001b[39m) \u001b[38;5;28;01mfrom\u001b[39;00m \u001b[38;5;21;01merr\u001b[39;00m\n",
      "\u001b[0;31mTypeError\u001b[0m: len() of unsized object"
     ]
    }
   ],
   "source": [
    "# Convert data to PyTorch tensors\n",
    "X_train_tensor = torch.tensor(X_train, dtype=torch.float32)\n",
    "y_train_tensor = torch.tensor(y_train, dtype=torch.float32)\n",
    "X_test_tensor = torch.tensor(X_test, dtype=torch.float32)\n",
    "y_test_tensor = torch.tensor(y_test, dtype=torch.float32)\n",
    "\n",
    "# Create data loaders\n",
    "train_dataset = TensorDataset(X_train_tensor, y_train_tensor)\n",
    "test_dataset = TensorDataset(X_test_tensor, y_test_tensor)\n",
    "\n",
    "train_loader = DataLoader(train_dataset, batch_size=32, shuffle=True)\n",
    "test_loader = DataLoader(test_dataset, batch_size=32, shuffle=False)"
   ]
  },
  {
   "cell_type": "code",
   "execution_count": 9,
   "metadata": {},
   "outputs": [],
   "source": [
    "# FNO Architecture\n",
    "import torch\n",
    "import torch.nn as nn\n",
    "import torch.fft\n",
    "\n",
    "class FNO2D(nn.Module):\n",
    "    def __init__(self, modes, width):\n",
    "        \"\"\"\n",
    "        Args: \n",
    "        modes: number of Fourier modes to retain\n",
    "        width: Feature width for the network\n",
    "        \"\"\"\n",
    "        super(FNO2D, self).__init__()\n",
    "        self.modes = modes\n",
    "        self.width = width\n",
    "\n",
    "        # input and output transforations\n",
    "        self.input_layer = nn.Linear(inputs_normalized, width)\n",
    "        self.output_layer = nn.Linear(width, forcing)\n",
    "\n",
    "        # Fourier layers\n",
    "        self.fourier_layers = nn.ModuleList([\n",
    "            FourierLayer(modes,width) for i in range(4)\n",
    "        ])\n",
    "\n",
    "        # Non linearity\n",
    "        self.activation = nn.ReLU()\n",
    "    \n",
    "    def forward(self, x):\n",
    "        # input transformation\n",
    "        x = self.input_layer(x) # (batch, height, width, width)\n",
    "\n",
    "        # pass through Fourier layers\n",
    "        for layer in self.fourier_layers:\n",
    "            x = layer(x)\n",
    "            x = self.activation(x)\n",
    "\n",
    "        # output transformation\n",
    "        x = self.output_layer(x) # (batch, height, width, forcing_channels)\n",
    "        return x\n",
    "\n",
    "class FourierLayer(nn.Module):\n",
    "    def __init__(self, modes, width):\n",
    "        super(FourierLayer, self).__init__()\n",
    "        self.modes = modes\n",
    "        self.width = width\n",
    "\n",
    "        # Learnable Foureier filters\n",
    "        self.weights = nn.Parameter(torch.randn(width, modes, modes, dtype=torch.cfloat))\n",
    "\n",
    "    def forward(self, x):\n",
    "        # Fourer transform of input\n",
    "        x_ft = torch.fft.fft2(x, dim=(-2, -1)) # FFT over spatial dimensions\n",
    "\n",
    "        # Retain only the first modes Fourier modes\n",
    "        x_ft = x_ft[...,:self.modes, :self.modes] * self.weights\n",
    "\n",
    "        # Inverse fft\n",
    "        x = torch.fft.ifft2(x_ft, dim=(-2,-1)).real\n",
    "        return x"
   ]
  },
  {
   "cell_type": "code",
   "execution_count": null,
   "metadata": {},
   "outputs": [],
   "source": [
    "# Training Loop\n",
    "\n",
    "# initialize model, optimizer, and loss function\n",
    "fno_model = FNO2D(modes=16, width=64)\n",
    "optimizer = torch.optim.Adam(fno_model.parameters(), lr=1e-3)\n",
    "loss_fn = nn.MSELoss()\n",
    "\n",
    "# training loop\n",
    "num_epochs = 100\n",
    "for epoch in range(num_epochs):\n",
    "    for evolved_state, forcing_function in data_loader: #assuming a data loader\n",
    "        optimizer.zero_grad()\n",
    "\n",
    "        # forward pass\n",
    "        predicted_forcing = fno_model(evolved_state)\n",
    "\n",
    "        # Compute loss\n",
    "        loss = loss_fn(predicted_forcing, forcing_function)\n",
    "\n",
    "        # Backward pass and optimization\n",
    "        loss.backward()\n",
    "        optimizer.step()\n",
    "\n",
    "    print(f\"Epoch {epoch + 1}/{num_epochs}, loss: {loss.item()}\")\n",
    "\n"
   ]
  },
  {
   "cell_type": "code",
   "execution_count": null,
   "metadata": {},
   "outputs": [],
   "source": [
    "# Evaluation\n",
    "\n",
    "# test on unseen data\n",
    "with torch.no_grad():\n",
    "    for evolved_state, true_forcing in test_loader:\n",
    "        predicted_forcing = fno_model(evolved_state)\n",
    "\n",
    "        # compute error or visualize\n",
    "        error = loss_fn(predicted_forcing, true_forcing)\n",
    "        print(f\"Test Error: {error.item()}\")"
   ]
  }
 ],
 "metadata": {
  "kernelspec": {
   "display_name": "jaxenv",
   "language": "python",
   "name": "python3"
  },
  "language_info": {
   "codemirror_mode": {
    "name": "ipython",
    "version": 3
   },
   "file_extension": ".py",
   "mimetype": "text/x-python",
   "name": "python",
   "nbconvert_exporter": "python",
   "pygments_lexer": "ipython3",
   "version": "3.12.4"
  }
 },
 "nbformat": 4,
 "nbformat_minor": 2
}
