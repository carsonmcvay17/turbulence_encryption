{
 "cells": [
  {
   "cell_type": "code",
   "execution_count": 1,
   "metadata": {},
   "outputs": [],
   "source": [
    "from turbencrypt.make_dataset import Dataset"
   ]
  },
  {
   "cell_type": "code",
   "execution_count": 2,
   "metadata": {},
   "outputs": [],
   "source": [
    "sim_config = {\n",
    "    'viscosity': 1,\n",
    "    'max_velocity': 2.0,\n",
    "    'final_time': 1,\n",
    "    'outer_steps': 3,\n",
    "    'gridsize': 64,\n",
    "    'max_courant_num': 1e-3,\n",
    "    'num_images': 22\n",
    "}"
   ]
  },
  {
   "cell_type": "code",
   "execution_count": 3,
   "metadata": {},
   "outputs": [
    {
     "name": "stderr",
     "output_type": "stream",
     "text": [
      "Running sims...: 0it [00:00, ?it/s]"
     ]
    },
    {
     "name": "stdout",
     "output_type": "stream",
     "text": [
      "Inside mod_kolmogorov_forcing - img_path: /Users/carsonmcvay/desktop/gradschool/research/turbulence_encryption/raw_images/image_1.jpg (type: <class 'str'>)\n",
      "grid (type: <class 'jax_cfd.base.grids.Grid'>)\n",
      "Inside mod_kolmogorov_forcing - img_path: /Users/carsonmcvay/desktop/gradschool/research/turbulence_encryption/raw_images/image_1.jpg (type: <class 'str'>)\n",
      "grid (type: <class 'jax_cfd.base.grids.Grid'>)\n"
     ]
    },
    {
     "name": "stderr",
     "output_type": "stream",
     "text": [
      "Running sims...: 1it [00:07,  7.82s/it]"
     ]
    },
    {
     "name": "stdout",
     "output_type": "stream",
     "text": [
      "Inside mod_kolmogorov_forcing - img_path: /Users/carsonmcvay/desktop/gradschool/research/turbulence_encryption/raw_images/image_2.jpg (type: <class 'str'>)\n",
      "grid (type: <class 'jax_cfd.base.grids.Grid'>)\n"
     ]
    },
    {
     "name": "stderr",
     "output_type": "stream",
     "text": [
      "Running sims...: 2it [00:14,  7.20s/it]"
     ]
    },
    {
     "name": "stdout",
     "output_type": "stream",
     "text": [
      "Inside mod_kolmogorov_forcing - img_path: /Users/carsonmcvay/desktop/gradschool/research/turbulence_encryption/raw_images/image_2.jpg (type: <class 'str'>)\n",
      "grid (type: <class 'jax_cfd.base.grids.Grid'>)\n",
      "Inside mod_kolmogorov_forcing - img_path: /Users/carsonmcvay/desktop/gradschool/research/turbulence_encryption/raw_images/image_3.jpg (type: <class 'str'>)\n",
      "grid (type: <class 'jax_cfd.base.grids.Grid'>)\n"
     ]
    },
    {
     "name": "stderr",
     "output_type": "stream",
     "text": [
      "Running sims...: 3it [00:21,  7.04s/it]"
     ]
    },
    {
     "name": "stdout",
     "output_type": "stream",
     "text": [
      "Inside mod_kolmogorov_forcing - img_path: /Users/carsonmcvay/desktop/gradschool/research/turbulence_encryption/raw_images/image_3.jpg (type: <class 'str'>)\n",
      "grid (type: <class 'jax_cfd.base.grids.Grid'>)\n",
      "Inside mod_kolmogorov_forcing - img_path: /Users/carsonmcvay/desktop/gradschool/research/turbulence_encryption/raw_images/image_4.jpg (type: <class 'str'>)\n",
      "grid (type: <class 'jax_cfd.base.grids.Grid'>)\n"
     ]
    },
    {
     "name": "stderr",
     "output_type": "stream",
     "text": [
      "Running sims...: 4it [00:28,  6.97s/it]"
     ]
    },
    {
     "name": "stdout",
     "output_type": "stream",
     "text": [
      "Inside mod_kolmogorov_forcing - img_path: /Users/carsonmcvay/desktop/gradschool/research/turbulence_encryption/raw_images/image_4.jpg (type: <class 'str'>)\n",
      "grid (type: <class 'jax_cfd.base.grids.Grid'>)\n",
      "Inside mod_kolmogorov_forcing - img_path: /Users/carsonmcvay/desktop/gradschool/research/turbulence_encryption/raw_images/image_5.jpg (type: <class 'str'>)\n",
      "grid (type: <class 'jax_cfd.base.grids.Grid'>)\n"
     ]
    },
    {
     "name": "stderr",
     "output_type": "stream",
     "text": [
      "Running sims...: 5it [00:35,  6.95s/it]"
     ]
    },
    {
     "name": "stdout",
     "output_type": "stream",
     "text": [
      "Inside mod_kolmogorov_forcing - img_path: /Users/carsonmcvay/desktop/gradschool/research/turbulence_encryption/raw_images/image_5.jpg (type: <class 'str'>)\n",
      "grid (type: <class 'jax_cfd.base.grids.Grid'>)\n",
      "Inside mod_kolmogorov_forcing - img_path: /Users/carsonmcvay/desktop/gradschool/research/turbulence_encryption/raw_images/image_6.jpg (type: <class 'str'>)\n",
      "grid (type: <class 'jax_cfd.base.grids.Grid'>)\n"
     ]
    },
    {
     "name": "stderr",
     "output_type": "stream",
     "text": [
      "Running sims...: 6it [00:42,  6.94s/it]"
     ]
    },
    {
     "name": "stdout",
     "output_type": "stream",
     "text": [
      "Inside mod_kolmogorov_forcing - img_path: /Users/carsonmcvay/desktop/gradschool/research/turbulence_encryption/raw_images/image_6.jpg (type: <class 'str'>)\n",
      "grid (type: <class 'jax_cfd.base.grids.Grid'>)\n",
      "Inside mod_kolmogorov_forcing - img_path: /Users/carsonmcvay/desktop/gradschool/research/turbulence_encryption/raw_images/image_7.jpg (type: <class 'str'>)\n",
      "grid (type: <class 'jax_cfd.base.grids.Grid'>)\n"
     ]
    },
    {
     "name": "stderr",
     "output_type": "stream",
     "text": [
      "Running sims...: 7it [00:49,  6.95s/it]"
     ]
    },
    {
     "name": "stdout",
     "output_type": "stream",
     "text": [
      "Inside mod_kolmogorov_forcing - img_path: /Users/carsonmcvay/desktop/gradschool/research/turbulence_encryption/raw_images/image_7.jpg (type: <class 'str'>)\n",
      "grid (type: <class 'jax_cfd.base.grids.Grid'>)\n",
      "Inside mod_kolmogorov_forcing - img_path: /Users/carsonmcvay/desktop/gradschool/research/turbulence_encryption/raw_images/image_8.jpg (type: <class 'str'>)\n",
      "grid (type: <class 'jax_cfd.base.grids.Grid'>)\n"
     ]
    },
    {
     "name": "stderr",
     "output_type": "stream",
     "text": [
      "Running sims...: 8it [00:55,  6.92s/it]"
     ]
    },
    {
     "name": "stdout",
     "output_type": "stream",
     "text": [
      "Inside mod_kolmogorov_forcing - img_path: /Users/carsonmcvay/desktop/gradschool/research/turbulence_encryption/raw_images/image_8.jpg (type: <class 'str'>)\n",
      "grid (type: <class 'jax_cfd.base.grids.Grid'>)\n",
      "Inside mod_kolmogorov_forcing - img_path: /Users/carsonmcvay/desktop/gradschool/research/turbulence_encryption/raw_images/image_9.jpg (type: <class 'str'>)\n",
      "grid (type: <class 'jax_cfd.base.grids.Grid'>)\n"
     ]
    },
    {
     "name": "stderr",
     "output_type": "stream",
     "text": [
      "Running sims...: 9it [01:02,  6.91s/it]"
     ]
    },
    {
     "name": "stdout",
     "output_type": "stream",
     "text": [
      "Inside mod_kolmogorov_forcing - img_path: /Users/carsonmcvay/desktop/gradschool/research/turbulence_encryption/raw_images/image_9.jpg (type: <class 'str'>)\n",
      "grid (type: <class 'jax_cfd.base.grids.Grid'>)\n",
      "Inside mod_kolmogorov_forcing - img_path: /Users/carsonmcvay/desktop/gradschool/research/turbulence_encryption/raw_images/image_10.jpg (type: <class 'str'>)\n",
      "grid (type: <class 'jax_cfd.base.grids.Grid'>)\n"
     ]
    },
    {
     "name": "stderr",
     "output_type": "stream",
     "text": [
      "Running sims...: 10it [01:09,  6.92s/it]"
     ]
    },
    {
     "name": "stdout",
     "output_type": "stream",
     "text": [
      "Inside mod_kolmogorov_forcing - img_path: /Users/carsonmcvay/desktop/gradschool/research/turbulence_encryption/raw_images/image_10.jpg (type: <class 'str'>)\n",
      "grid (type: <class 'jax_cfd.base.grids.Grid'>)\n",
      "Inside mod_kolmogorov_forcing - img_path: /Users/carsonmcvay/desktop/gradschool/research/turbulence_encryption/raw_images/image_11.jpg (type: <class 'str'>)\n",
      "grid (type: <class 'jax_cfd.base.grids.Grid'>)\n"
     ]
    },
    {
     "name": "stderr",
     "output_type": "stream",
     "text": [
      "Running sims...: 11it [01:16,  6.89s/it]"
     ]
    },
    {
     "name": "stdout",
     "output_type": "stream",
     "text": [
      "Inside mod_kolmogorov_forcing - img_path: /Users/carsonmcvay/desktop/gradschool/research/turbulence_encryption/raw_images/image_11.jpg (type: <class 'str'>)\n",
      "grid (type: <class 'jax_cfd.base.grids.Grid'>)\n",
      "Inside mod_kolmogorov_forcing - img_path: /Users/carsonmcvay/desktop/gradschool/research/turbulence_encryption/raw_images/image_12.jpg (type: <class 'str'>)\n",
      "grid (type: <class 'jax_cfd.base.grids.Grid'>)\n"
     ]
    },
    {
     "name": "stderr",
     "output_type": "stream",
     "text": [
      "Running sims...: 12it [01:23,  6.88s/it]"
     ]
    },
    {
     "name": "stdout",
     "output_type": "stream",
     "text": [
      "Inside mod_kolmogorov_forcing - img_path: /Users/carsonmcvay/desktop/gradschool/research/turbulence_encryption/raw_images/image_12.jpg (type: <class 'str'>)\n",
      "grid (type: <class 'jax_cfd.base.grids.Grid'>)\n",
      "Inside mod_kolmogorov_forcing - img_path: /Users/carsonmcvay/desktop/gradschool/research/turbulence_encryption/raw_images/image_13.jpg (type: <class 'str'>)\n",
      "grid (type: <class 'jax_cfd.base.grids.Grid'>)\n"
     ]
    },
    {
     "name": "stderr",
     "output_type": "stream",
     "text": [
      "Running sims...: 13it [01:30,  6.87s/it]"
     ]
    },
    {
     "name": "stdout",
     "output_type": "stream",
     "text": [
      "Inside mod_kolmogorov_forcing - img_path: /Users/carsonmcvay/desktop/gradschool/research/turbulence_encryption/raw_images/image_13.jpg (type: <class 'str'>)\n",
      "grid (type: <class 'jax_cfd.base.grids.Grid'>)\n",
      "Inside mod_kolmogorov_forcing - img_path: /Users/carsonmcvay/desktop/gradschool/research/turbulence_encryption/raw_images/image_14.jpg (type: <class 'str'>)\n",
      "grid (type: <class 'jax_cfd.base.grids.Grid'>)\n"
     ]
    },
    {
     "name": "stderr",
     "output_type": "stream",
     "text": [
      "Running sims...: 14it [01:37,  6.88s/it]"
     ]
    },
    {
     "name": "stdout",
     "output_type": "stream",
     "text": [
      "Inside mod_kolmogorov_forcing - img_path: /Users/carsonmcvay/desktop/gradschool/research/turbulence_encryption/raw_images/image_14.jpg (type: <class 'str'>)\n",
      "grid (type: <class 'jax_cfd.base.grids.Grid'>)\n",
      "Inside mod_kolmogorov_forcing - img_path: /Users/carsonmcvay/desktop/gradschool/research/turbulence_encryption/raw_images/image_15.jpg (type: <class 'str'>)\n",
      "grid (type: <class 'jax_cfd.base.grids.Grid'>)\n"
     ]
    },
    {
     "name": "stderr",
     "output_type": "stream",
     "text": [
      "Running sims...: 15it [01:44,  6.91s/it]"
     ]
    },
    {
     "name": "stdout",
     "output_type": "stream",
     "text": [
      "Inside mod_kolmogorov_forcing - img_path: /Users/carsonmcvay/desktop/gradschool/research/turbulence_encryption/raw_images/image_15.jpg (type: <class 'str'>)\n",
      "grid (type: <class 'jax_cfd.base.grids.Grid'>)\n",
      "Inside mod_kolmogorov_forcing - img_path: /Users/carsonmcvay/desktop/gradschool/research/turbulence_encryption/raw_images/image_16.jpg (type: <class 'str'>)\n",
      "grid (type: <class 'jax_cfd.base.grids.Grid'>)\n"
     ]
    },
    {
     "name": "stderr",
     "output_type": "stream",
     "text": [
      "Running sims...: 16it [01:51,  6.89s/it]"
     ]
    },
    {
     "name": "stdout",
     "output_type": "stream",
     "text": [
      "Inside mod_kolmogorov_forcing - img_path: /Users/carsonmcvay/desktop/gradschool/research/turbulence_encryption/raw_images/image_16.jpg (type: <class 'str'>)\n",
      "grid (type: <class 'jax_cfd.base.grids.Grid'>)\n",
      "Inside mod_kolmogorov_forcing - img_path: /Users/carsonmcvay/desktop/gradschool/research/turbulence_encryption/raw_images/image_17.jpg (type: <class 'str'>)\n",
      "grid (type: <class 'jax_cfd.base.grids.Grid'>)\n"
     ]
    },
    {
     "name": "stderr",
     "output_type": "stream",
     "text": [
      "Running sims...: 17it [01:58,  6.92s/it]"
     ]
    },
    {
     "name": "stdout",
     "output_type": "stream",
     "text": [
      "Inside mod_kolmogorov_forcing - img_path: /Users/carsonmcvay/desktop/gradschool/research/turbulence_encryption/raw_images/image_17.jpg (type: <class 'str'>)\n",
      "grid (type: <class 'jax_cfd.base.grids.Grid'>)\n",
      "Inside mod_kolmogorov_forcing - img_path: /Users/carsonmcvay/desktop/gradschool/research/turbulence_encryption/raw_images/image_18.jpg (type: <class 'str'>)\n",
      "grid (type: <class 'jax_cfd.base.grids.Grid'>)\n"
     ]
    },
    {
     "name": "stderr",
     "output_type": "stream",
     "text": [
      "Running sims...: 18it [02:04,  6.92s/it]"
     ]
    },
    {
     "name": "stdout",
     "output_type": "stream",
     "text": [
      "Inside mod_kolmogorov_forcing - img_path: /Users/carsonmcvay/desktop/gradschool/research/turbulence_encryption/raw_images/image_18.jpg (type: <class 'str'>)\n",
      "grid (type: <class 'jax_cfd.base.grids.Grid'>)\n",
      "Inside mod_kolmogorov_forcing - img_path: /Users/carsonmcvay/desktop/gradschool/research/turbulence_encryption/raw_images/image_19.jpg (type: <class 'str'>)\n",
      "grid (type: <class 'jax_cfd.base.grids.Grid'>)\n"
     ]
    },
    {
     "name": "stderr",
     "output_type": "stream",
     "text": [
      "Running sims...: 19it [02:11,  6.91s/it]"
     ]
    },
    {
     "name": "stdout",
     "output_type": "stream",
     "text": [
      "Inside mod_kolmogorov_forcing - img_path: /Users/carsonmcvay/desktop/gradschool/research/turbulence_encryption/raw_images/image_19.jpg (type: <class 'str'>)\n",
      "grid (type: <class 'jax_cfd.base.grids.Grid'>)\n",
      "Inside mod_kolmogorov_forcing - img_path: /Users/carsonmcvay/desktop/gradschool/research/turbulence_encryption/raw_images/image_20.jpg (type: <class 'str'>)\n",
      "grid (type: <class 'jax_cfd.base.grids.Grid'>)\n"
     ]
    },
    {
     "name": "stderr",
     "output_type": "stream",
     "text": [
      "Running sims...: 20it [02:18,  6.92s/it]"
     ]
    },
    {
     "name": "stdout",
     "output_type": "stream",
     "text": [
      "Inside mod_kolmogorov_forcing - img_path: /Users/carsonmcvay/desktop/gradschool/research/turbulence_encryption/raw_images/image_20.jpg (type: <class 'str'>)\n",
      "grid (type: <class 'jax_cfd.base.grids.Grid'>)\n",
      "Inside mod_kolmogorov_forcing - img_path: /Users/carsonmcvay/desktop/gradschool/research/turbulence_encryption/raw_images/image_21.jpg (type: <class 'str'>)\n",
      "grid (type: <class 'jax_cfd.base.grids.Grid'>)\n"
     ]
    },
    {
     "name": "stderr",
     "output_type": "stream",
     "text": [
      "Running sims...: 21it [02:25,  6.94s/it]"
     ]
    },
    {
     "name": "stdout",
     "output_type": "stream",
     "text": [
      "Inside mod_kolmogorov_forcing - img_path: /Users/carsonmcvay/desktop/gradschool/research/turbulence_encryption/raw_images/image_21.jpg (type: <class 'str'>)\n",
      "grid (type: <class 'jax_cfd.base.grids.Grid'>)\n",
      "Dataset saved to multi_forcing_simulations_combined_viscneg2.npz.\n"
     ]
    },
    {
     "name": "stderr",
     "output_type": "stream",
     "text": [
      "\n"
     ]
    }
   ],
   "source": [
    "dataset = Dataset()\n",
    "dataset.make_data(config=sim_config)"
   ]
  }
 ],
 "metadata": {
  "kernelspec": {
   "display_name": "jaxenv",
   "language": "python",
   "name": "python3"
  },
  "language_info": {
   "codemirror_mode": {
    "name": "ipython",
    "version": 3
   },
   "file_extension": ".py",
   "mimetype": "text/x-python",
   "name": "python",
   "nbconvert_exporter": "python",
   "pygments_lexer": "ipython3",
   "version": "3.12.4"
  }
 },
 "nbformat": 4,
 "nbformat_minor": 2
}
